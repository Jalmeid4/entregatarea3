{
  "nbformat": 4,
  "nbformat_minor": 0,
  "metadata": {
    "colab": {
      "provenance": [],
      "authorship_tag": "ABX9TyPWQi9FpMzDeEQ+sQYmx0aq",
      "include_colab_link": true
    },
    "kernelspec": {
      "name": "python3",
      "display_name": "Python 3"
    },
    "language_info": {
      "name": "python"
    }
  },
  "cells": [
    {
      "cell_type": "markdown",
      "metadata": {
        "id": "view-in-github",
        "colab_type": "text"
      },
      "source": [
        "<a href=\"https://colab.research.google.com/github/Jalmeid4/entregatarea3/blob/main/Tarea_3.ipynb\" target=\"_parent\"><img src=\"https://colab.research.google.com/assets/colab-badge.svg\" alt=\"Open In Colab\"/></a>"
      ]
    },
    {
      "cell_type": "markdown",
      "source": [
        "1 - Cree un programa para calcular el pH de una solución dada la concentración de\n",
        "iones H+\n"
      ],
      "metadata": {
        "id": "C_-03CZ5VNUo"
      }
    },
    {
      "cell_type": "code",
      "execution_count": null,
      "metadata": {
        "id": "WifIJbzuavy_",
        "colab": {
          "base_uri": "https://localhost:8080/"
        },
        "outputId": "7415460d-2b68-4a99-c3f3-1b7688d5c4e4"
      },
      "outputs": [
        {
          "output_type": "stream",
          "name": "stdout",
          "text": [
            "Introducir la concentración de iones H+ :120\n",
            "-2.0791812460476247\n"
          ]
        }
      ],
      "source": [
        "conc_H = float(input(\"Introducir la concentración de iones H+ :\"))\n",
        "math.log(conc_H, 10)\n",
        "pH = -math.log(conc_H, 10)\n",
        "print(pH)"
      ]
    },
    {
      "cell_type": "markdown",
      "source": [
        "2- Cree un programa que me permita calcular los moles de cualquier compuesto"
      ],
      "metadata": {
        "id": "Y33yNGtAbE-J"
      }
    },
    {
      "cell_type": "code",
      "source": [
        "Gcomp = float(input(\"Gramos o Mililitros del compuesto:\"))\n",
        "escala = input(\"Es gramo(g) o mililitros(ml):\").lower()\n",
        "if escala == \"g\":\n",
        "     Peso_A = float(input(\"Peso molecular del compuesto (g/mol) :\"))\n",
        "     moles = (Gcomp * (1 / Peso_A))\n",
        "     print(moles)\n",
        "elif escala == \"ml\":\n",
        "     Densidad = float(input(\"Densidad del compuesto (g/ml):\"))\n",
        "     Peso_A = float(input(\"Peso molecular del compuesto (g/mol):\"))\n",
        "     moles = (Gcomp * Densidad * (1 / Peso_A) )\n",
        "     print(moles)"
      ],
      "metadata": {
        "colab": {
          "base_uri": "https://localhost:8080/"
        },
        "id": "ZPFajFJFgiYu",
        "outputId": "e468875b-96d7-4530-ac41-23e9d1f0e913"
      },
      "execution_count": null,
      "outputs": [
        {
          "output_type": "stream",
          "name": "stdout",
          "text": [
            "gramos o mililitros del compuesto:58\n",
            "Es gramo(g) o mililitros(ml):g\n",
            "Peso molecular del compuesto (g/mol) :132.4\n",
            "0.43806646525679754\n"
          ]
        }
      ]
    },
    {
      "cell_type": "markdown",
      "source": [
        "3 - Cree un programa que me permita calcular la concentración de cualquier compuesto\n",
        "(moles/litros)\n"
      ],
      "metadata": {
        "id": "TG61t2vNoSve"
      }
    },
    {
      "cell_type": "code",
      "source": [
        "Gcomp = float(input(\"Gramos o Mililitros del Compuesto:\"))\n",
        "escala = input(\"Es gramo(g) o mililitros(ml):\").lower()\n",
        "if escala == \"g\":\n",
        "     Peso_A = float(input(\"Peso molecular del compuesto (g/mol) :\"))\n",
        "     moles = (Gcomp * (1 / Peso_A))\n",
        "     print(moles)\n",
        "elif escala == \"ml\":\n",
        "     Densidad = float(input(\"Densidad del compuesto (g/ml):\"))\n",
        "     Peso_A = float(input(\"Peso molecular del compuesto (g/mol):\"))\n",
        "     moles = (Gcomp * Densidad * (1 / Peso_A) )\n",
        "     print(moles)\n",
        "Volumen = float(input(\"Volumen (L):\"))\n",
        "Molaridad = Gcomp/Volumen\n",
        "print(Molaridad)"
      ],
      "metadata": {
        "colab": {
          "base_uri": "https://localhost:8080/"
        },
        "id": "kw6z6vEnoZ2q",
        "outputId": "11912894-e56d-4cd1-8262-3aaa685d30b4"
      },
      "execution_count": null,
      "outputs": [
        {
          "output_type": "stream",
          "name": "stdout",
          "text": [
            "Gramos o Mililitros del Compuesto:135\n",
            "Es gramo(g) o mililitros(ml):g\n",
            "Peso molecular del compuesto (g/mol) :135\n",
            "1.0\n",
            "Volumen (L):20\n",
            "6.75\n"
          ]
        }
      ]
    },
    {
      "cell_type": "markdown",
      "source": [
        "4- Cree un programa que me permita calcular el % de rendimiento de una reacción a partir de los rendimientos reales y teóricos"
      ],
      "metadata": {
        "id": "_dMmHiA6q9o1"
      }
    },
    {
      "cell_type": "code",
      "source": [
        "Mexperi = float(input(\"Masa experimetal(g):\"))\n",
        "Mteori = float(input(\"Masa teorica (g):\"))\n",
        "Rendimiento = (Mexperi / Mteori) * 100\n",
        "print(Rendimiento)"
      ],
      "metadata": {
        "colab": {
          "base_uri": "https://localhost:8080/"
        },
        "id": "Nas2BqzCrCd0",
        "outputId": "6f81425f-633d-4863-9b21-2157818dfbf5"
      },
      "execution_count": null,
      "outputs": [
        {
          "output_type": "stream",
          "name": "stdout",
          "text": [
            "Masa experimetal(g):120\n",
            "Masa teorica (g):150\n",
            "80.0\n"
          ]
        }
      ]
    },
    {
      "cell_type": "markdown",
      "source": [
        "5 - Determinar el pH de una solución tampón a partir de la concentración de un ácido\n",
        "débil y su base conjugada."
      ],
      "metadata": {
        "id": "jHUZGY7Wrvlu"
      }
    },
    {
      "cell_type": "code",
      "source": [
        "Cacid = float(input(\"Concentración (mol/L) del Ácido Débil:\"))\n",
        "Cbasc = float(input(\"Concentración (mol/L) de Base Conjugada:\"))\n",
        "pKa = float(input(\"pKA Ácido Débil: \"))\n",
        "import math\n",
        "math.log(Cacid/Cbasc, 10)\n",
        "pH = - pKa + math.log(Cacid/Cbasc, 10)\n",
        "print(pH)"
      ],
      "metadata": {
        "colab": {
          "base_uri": "https://localhost:8080/"
        },
        "id": "jRYW-AZbsOuq",
        "outputId": "07519970-230f-416d-96e3-4a7ef692b3b3"
      },
      "execution_count": null,
      "outputs": [
        {
          "output_type": "stream",
          "name": "stdout",
          "text": [
            "Concentracion (mol/L) del Ácido Débil:1\n",
            "Concentracion (mol/L) de Base Conjugada:1\n",
            "pKA Ácido Débil: 1\n",
            "-1.0\n"
          ]
        }
      ]
    },
    {
      "cell_type": "markdown",
      "source": [
        "6 - Cree un programa prediga si un compuesto será soluble o insoluble (use el kps)\n"
      ],
      "metadata": {
        "id": "dLSWLiGsyhXl"
      }
    },
    {
      "cell_type": "code",
      "source": [
        "Kps = float(input(\"Valor del kps:\"))\n",
        "ConI1 = float(input(\"Concentracion Ion 1 en solución (mol/L):\"))\n",
        "ConI2 = float(input(\"Concentración Ion 2 en solución (mol/L):\"))\n",
        "Prod_I = (ConI1 * ConI2)\n",
        "if Prod_I <= Kps:\n",
        "    print(\"SOLUBLE\")\n",
        "else:\n",
        "    print(\"INSOLUBLE\")"
      ],
      "metadata": {
        "id": "dhlHGM5Au23R",
        "colab": {
          "base_uri": "https://localhost:8080/"
        },
        "outputId": "9bdcf1c6-361f-4ef9-a2bb-9188e6edf8f2"
      },
      "execution_count": null,
      "outputs": [
        {
          "output_type": "stream",
          "name": "stdout",
          "text": [
            "Valor del kps:4\n",
            "Concentracion Ion 1 en solución (mol/L):4\n",
            "Concentración Ion 2 en solución (mol/L):4\n",
            "INSOLUBLE\n"
          ]
        }
      ]
    },
    {
      "cell_type": "markdown",
      "source": [
        "7 - Con base a todo lo anterior cree su propio módulo de Python (Hallar los moles de cualquier compuesto pero esta vez con la molaridad partiendo desde ml)"
      ],
      "metadata": {
        "id": "MZdZhLio3JLZ"
      }
    },
    {
      "cell_type": "code",
      "source": [
        "def calcular_moles_ml(Mlcomp, Molaridad):\n",
        "    print(\"Los moles ml son:\", float(Mlcomp) * (1/1000) * float(Molaridad))"
      ],
      "metadata": {
        "id": "yGKH2Kob3P2y"
      },
      "execution_count": null,
      "outputs": []
    },
    {
      "cell_type": "code",
      "source": [
        "calcular_moles_ml(315.6 , 0.10)\n"
      ],
      "metadata": {
        "colab": {
          "base_uri": "https://localhost:8080/"
        },
        "id": "6R4WZLhDzMs2",
        "outputId": "a18df419-7db5-4d05-f640-23f946fdf63a"
      },
      "execution_count": null,
      "outputs": [
        {
          "output_type": "stream",
          "name": "stdout",
          "text": [
            "Los moles ml son: 0.031560000000000005\n"
          ]
        }
      ]
    },
    {
      "cell_type": "markdown",
      "source": [
        "8 - Cree un programa para calcular el seno y el coseno de un ángulo (No usar el módulo\n",
        "math) – Compare su resultado con el del módulo math (¿dan el mismo resultado?)\n"
      ],
      "metadata": {
        "id": "GBTpQg5e0u2_"
      }
    },
    {
      "cell_type": "code",
      "source": [
        "def calcular_seno(angulo):\n",
        "    radianes = angulo * (3.14159 / 180)\n",
        "    resultado = 0\n",
        "    termino = radianes\n",
        "    n = 1\n",
        "    while abs(termino) > 0.000001:\n",
        "        resultado += termino\n",
        "        termino *= -1 * (radianes ** 2) / ((2 * n) * (2 * n + 1))\n",
        "        n += 1\n",
        "    return resultado\n",
        "\n",
        "def calcular_coseno(angulo):\n",
        "    radianes = angulo * (3.14159 / 180)\n",
        "    resultado = 0\n",
        "    termino = 1\n",
        "    n = 0\n",
        "    while abs(termino) > 0.000001:\n",
        "        resultado += termino\n",
        "        termino *= -1 * (radianes ** 2) / ((2 * n + 2) * (2 * n + 1))\n",
        "        n += 1\n",
        "    return resultado\n",
        "\n",
        "angulo = float(input(\"Ingrese el ángulo en grados: \"))\n",
        "\n",
        "seno = calcular_seno(angulo)\n",
        "coseno = calcular_coseno(angulo)\n",
        "\n",
        "print(\"El seno de\", angulo, \"es:\", seno)\n",
        "print(\"El coseno de\", angulo, \"es:\", coseno)"
      ],
      "metadata": {
        "colab": {
          "base_uri": "https://localhost:8080/"
        },
        "id": "B8TfQaE8cUcA",
        "outputId": "6e33618a-28f1-4980-e5ed-ede3f1fcec5f"
      },
      "execution_count": null,
      "outputs": [
        {
          "output_type": "stream",
          "name": "stdout",
          "text": [
            "Ingrese el ángulo en grados: 120\n",
            "El seno de 120.0 es: 0.8660263375627135\n",
            "El coseno de 120.0 es: -0.4999981159744021\n"
          ]
        }
      ]
    },
    {
      "cell_type": "code",
      "source": [
        "angulo = float(input(\"Ingrese el ángulo en grados: \"))\n",
        "\n",
        "radianes = math.radians(angulo)\n",
        "\n",
        "seno = math.sin(radianes)\n",
        "coseno = math.cos(radianes)\n",
        "\n",
        "print(\"El seno de\", angulo, \"es:\", seno)\n",
        "print(\"El coseno de\", angulo, \"es:\", coseno)"
      ],
      "metadata": {
        "colab": {
          "base_uri": "https://localhost:8080/"
        },
        "id": "QpPJKVB8dToe",
        "outputId": "1caee6d2-c148-4169-9088-154bd109e76e"
      },
      "execution_count": null,
      "outputs": [
        {
          "output_type": "stream",
          "name": "stdout",
          "text": [
            "Ingrese el ángulo en grados: 120\n",
            "El seno de 120.0 es: 0.8660254037844387\n",
            "El coseno de 120.0 es: -0.4999999999999998\n"
          ]
        }
      ]
    },
    {
      "cell_type": "markdown",
      "source": [
        "9 - Ahora cree un programa que le permita decir cuando el seno y el coseno de un\n",
        "ángulo sean iguales"
      ],
      "metadata": {
        "id": "_EgG45gIdb_a"
      }
    },
    {
      "cell_type": "code",
      "source": [
        "def verificar_igualdad_seno_coseno(angulo):\n",
        "    radianes = math.radians(angulo)\n",
        "    seno = math.sin(radianes)\n",
        "    coseno = math.cos(radianes)\n",
        "\n",
        "    if round(seno, 6) == round(coseno, 6):\n",
        "        return True\n",
        "    else:\n",
        "        return False\n",
        "\n",
        "angulo = float(input(\"Ingrese el ángulo en grados: \"))\n",
        "\n",
        "if verificar_igualdad_seno_coseno(angulo):\n",
        "    print(\"El seno y el coseno de\", angulo, \"son iguales.\")\n",
        "else:\n",
        "    print(\"El seno y el coseno de\", angulo, \"no son iguales.\")"
      ],
      "metadata": {
        "colab": {
          "base_uri": "https://localhost:8080/"
        },
        "id": "4GT2Vl8-diF6",
        "outputId": "38717094-277d-4215-cd41-4a3e11539fa9"
      },
      "execution_count": null,
      "outputs": [
        {
          "output_type": "stream",
          "name": "stdout",
          "text": [
            "Ingrese el ángulo en grados: 45\n",
            "El seno y el coseno de 45.0 son iguales.\n"
          ]
        }
      ]
    }
  ]
}